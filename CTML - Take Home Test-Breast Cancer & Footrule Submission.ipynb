{
 "cells": [
  {
   "cell_type": "code",
   "execution_count": 1,
   "metadata": {},
   "outputs": [],
   "source": [
    "#importing Libraries \n",
    "%matplotlib inline\n",
    "import pandas as pd\n",
    "import numpy as np\n",
    "import seaborn as sns\n",
    "from matplotlib import pyplot as plt\n",
    "import warnings\n",
    "warnings.filterwarnings('ignore')"
   ]
  },
  {
   "cell_type": "code",
   "execution_count": 3,
   "metadata": {},
   "outputs": [
    {
     "data": {
      "text/html": [
       "<div>\n",
       "<style scoped>\n",
       "    .dataframe tbody tr th:only-of-type {\n",
       "        vertical-align: middle;\n",
       "    }\n",
       "\n",
       "    .dataframe tbody tr th {\n",
       "        vertical-align: top;\n",
       "    }\n",
       "\n",
       "    .dataframe thead th {\n",
       "        text-align: right;\n",
       "    }\n",
       "</style>\n",
       "<table border=\"1\" class=\"dataframe\">\n",
       "  <thead>\n",
       "    <tr style=\"text-align: right;\">\n",
       "      <th></th>\n",
       "      <th>id</th>\n",
       "      <th>diagnosis</th>\n",
       "      <th>radius</th>\n",
       "      <th>texture</th>\n",
       "      <th>perimeter</th>\n",
       "      <th>area</th>\n",
       "      <th>smoothness</th>\n",
       "      <th>compactness</th>\n",
       "      <th>concavity</th>\n",
       "      <th>concave_points</th>\n",
       "      <th>...</th>\n",
       "      <th>worst_radius</th>\n",
       "      <th>worst_texture</th>\n",
       "      <th>worst_perimeter</th>\n",
       "      <th>worst_area</th>\n",
       "      <th>worst_smoothness</th>\n",
       "      <th>worst_compactness</th>\n",
       "      <th>worst_concavity</th>\n",
       "      <th>worst_concave_points</th>\n",
       "      <th>worst_symmetry</th>\n",
       "      <th>worst_fractal_dimension</th>\n",
       "    </tr>\n",
       "  </thead>\n",
       "  <tbody>\n",
       "    <tr>\n",
       "      <th>0</th>\n",
       "      <td>842302</td>\n",
       "      <td>M</td>\n",
       "      <td>17.99</td>\n",
       "      <td>10.38</td>\n",
       "      <td>122.80</td>\n",
       "      <td>1001.0</td>\n",
       "      <td>0.11840</td>\n",
       "      <td>0.27760</td>\n",
       "      <td>0.3001</td>\n",
       "      <td>0.14710</td>\n",
       "      <td>...</td>\n",
       "      <td>25.38</td>\n",
       "      <td>17.33</td>\n",
       "      <td>184.60</td>\n",
       "      <td>2019.0</td>\n",
       "      <td>0.1622</td>\n",
       "      <td>0.6656</td>\n",
       "      <td>0.7119</td>\n",
       "      <td>0.2654</td>\n",
       "      <td>0.4601</td>\n",
       "      <td>0.11890</td>\n",
       "    </tr>\n",
       "    <tr>\n",
       "      <th>1</th>\n",
       "      <td>842517</td>\n",
       "      <td>M</td>\n",
       "      <td>20.57</td>\n",
       "      <td>17.77</td>\n",
       "      <td>132.90</td>\n",
       "      <td>1326.0</td>\n",
       "      <td>0.08474</td>\n",
       "      <td>0.07864</td>\n",
       "      <td>0.0869</td>\n",
       "      <td>0.07017</td>\n",
       "      <td>...</td>\n",
       "      <td>24.99</td>\n",
       "      <td>23.41</td>\n",
       "      <td>158.80</td>\n",
       "      <td>1956.0</td>\n",
       "      <td>0.1238</td>\n",
       "      <td>0.1866</td>\n",
       "      <td>0.2416</td>\n",
       "      <td>0.1860</td>\n",
       "      <td>0.2750</td>\n",
       "      <td>0.08902</td>\n",
       "    </tr>\n",
       "    <tr>\n",
       "      <th>2</th>\n",
       "      <td>84300903</td>\n",
       "      <td>M</td>\n",
       "      <td>19.69</td>\n",
       "      <td>21.25</td>\n",
       "      <td>130.00</td>\n",
       "      <td>1203.0</td>\n",
       "      <td>0.10960</td>\n",
       "      <td>0.15990</td>\n",
       "      <td>0.1974</td>\n",
       "      <td>0.12790</td>\n",
       "      <td>...</td>\n",
       "      <td>23.57</td>\n",
       "      <td>25.53</td>\n",
       "      <td>152.50</td>\n",
       "      <td>1709.0</td>\n",
       "      <td>0.1444</td>\n",
       "      <td>0.4245</td>\n",
       "      <td>0.4504</td>\n",
       "      <td>0.2430</td>\n",
       "      <td>0.3613</td>\n",
       "      <td>0.08758</td>\n",
       "    </tr>\n",
       "    <tr>\n",
       "      <th>3</th>\n",
       "      <td>84348301</td>\n",
       "      <td>M</td>\n",
       "      <td>11.42</td>\n",
       "      <td>20.38</td>\n",
       "      <td>77.58</td>\n",
       "      <td>386.1</td>\n",
       "      <td>0.14250</td>\n",
       "      <td>0.28390</td>\n",
       "      <td>0.2414</td>\n",
       "      <td>0.10520</td>\n",
       "      <td>...</td>\n",
       "      <td>14.91</td>\n",
       "      <td>26.50</td>\n",
       "      <td>98.87</td>\n",
       "      <td>567.7</td>\n",
       "      <td>0.2098</td>\n",
       "      <td>0.8663</td>\n",
       "      <td>0.6869</td>\n",
       "      <td>0.2575</td>\n",
       "      <td>0.6638</td>\n",
       "      <td>0.17300</td>\n",
       "    </tr>\n",
       "    <tr>\n",
       "      <th>4</th>\n",
       "      <td>84358402</td>\n",
       "      <td>M</td>\n",
       "      <td>20.29</td>\n",
       "      <td>14.34</td>\n",
       "      <td>135.10</td>\n",
       "      <td>1297.0</td>\n",
       "      <td>0.10030</td>\n",
       "      <td>0.13280</td>\n",
       "      <td>0.1980</td>\n",
       "      <td>0.10430</td>\n",
       "      <td>...</td>\n",
       "      <td>22.54</td>\n",
       "      <td>16.67</td>\n",
       "      <td>152.20</td>\n",
       "      <td>1575.0</td>\n",
       "      <td>0.1374</td>\n",
       "      <td>0.2050</td>\n",
       "      <td>0.4000</td>\n",
       "      <td>0.1625</td>\n",
       "      <td>0.2364</td>\n",
       "      <td>0.07678</td>\n",
       "    </tr>\n",
       "  </tbody>\n",
       "</table>\n",
       "<p>5 rows × 32 columns</p>\n",
       "</div>"
      ],
      "text/plain": [
       "         id diagnosis  radius  texture  perimeter    area  smoothness  \\\n",
       "0    842302         M   17.99    10.38     122.80  1001.0     0.11840   \n",
       "1    842517         M   20.57    17.77     132.90  1326.0     0.08474   \n",
       "2  84300903         M   19.69    21.25     130.00  1203.0     0.10960   \n",
       "3  84348301         M   11.42    20.38      77.58   386.1     0.14250   \n",
       "4  84358402         M   20.29    14.34     135.10  1297.0     0.10030   \n",
       "\n",
       "   compactness  concavity  concave_points  ...  worst_radius  worst_texture  \\\n",
       "0      0.27760     0.3001         0.14710  ...         25.38          17.33   \n",
       "1      0.07864     0.0869         0.07017  ...         24.99          23.41   \n",
       "2      0.15990     0.1974         0.12790  ...         23.57          25.53   \n",
       "3      0.28390     0.2414         0.10520  ...         14.91          26.50   \n",
       "4      0.13280     0.1980         0.10430  ...         22.54          16.67   \n",
       "\n",
       "   worst_perimeter  worst_area  worst_smoothness  worst_compactness  \\\n",
       "0           184.60      2019.0            0.1622             0.6656   \n",
       "1           158.80      1956.0            0.1238             0.1866   \n",
       "2           152.50      1709.0            0.1444             0.4245   \n",
       "3            98.87       567.7            0.2098             0.8663   \n",
       "4           152.20      1575.0            0.1374             0.2050   \n",
       "\n",
       "   worst_concavity  worst_concave_points  worst_symmetry  \\\n",
       "0           0.7119                0.2654          0.4601   \n",
       "1           0.2416                0.1860          0.2750   \n",
       "2           0.4504                0.2430          0.3613   \n",
       "3           0.6869                0.2575          0.6638   \n",
       "4           0.4000                0.1625          0.2364   \n",
       "\n",
       "   worst_fractal_dimension  \n",
       "0                  0.11890  \n",
       "1                  0.08902  \n",
       "2                  0.08758  \n",
       "3                  0.17300  \n",
       "4                  0.07678  \n",
       "\n",
       "[5 rows x 32 columns]"
      ]
     },
     "execution_count": 3,
     "metadata": {},
     "output_type": "execute_result"
    }
   ],
   "source": [
    "# Adding Column Names\n",
    "df = pd.read_csv('wdbc.data',sep=',', header=None, names=['id','diagnosis','radius', 'texture', 'perimeter', 'area', 'smoothness',\n",
    "                                                          'compactness', 'concavity', 'concave_points', 'symmetry', 'fractal_dimension',\n",
    "                                                          'SE_radius', 'SE_texture', 'SE_perimeter', 'SE_area', 'SE_smoothness',\n",
    "                                                          'SE_compactness', 'SE_concavity', 'SE_concave_points', 'SE_symmetry', 'SE_fractal_dimension',\n",
    "                                                          'worst_radius', 'worst_texture', 'worst_perimeter', 'worst_area', 'worst_smoothness',\n",
    "                                                          'worst_compactness', 'worst_concavity', 'worst_concave_points', 'worst_symmetry', 'worst_fractal_dimension'])\n",
    "df.head(5)"
   ]
  },
  {
   "cell_type": "code",
   "execution_count": 4,
   "metadata": {},
   "outputs": [
    {
     "name": "stdout",
     "output_type": "stream",
     "text": [
      "(569, 32)\n"
     ]
    }
   ],
   "source": [
    "# checking all rows and columns are read\n",
    "print(df.shape)"
   ]
  },
  {
   "cell_type": "code",
   "execution_count": 5,
   "metadata": {},
   "outputs": [
    {
     "name": "stdout",
     "output_type": "stream",
     "text": [
      "<class 'pandas.core.frame.DataFrame'>\n",
      "RangeIndex: 569 entries, 0 to 568\n",
      "Data columns (total 32 columns):\n",
      " #   Column                   Non-Null Count  Dtype  \n",
      "---  ------                   --------------  -----  \n",
      " 0   id                       569 non-null    int64  \n",
      " 1   diagnosis                569 non-null    object \n",
      " 2   radius                   569 non-null    float64\n",
      " 3   texture                  569 non-null    float64\n",
      " 4   perimeter                569 non-null    float64\n",
      " 5   area                     569 non-null    float64\n",
      " 6   smoothness               569 non-null    float64\n",
      " 7   compactness              569 non-null    float64\n",
      " 8   concavity                569 non-null    float64\n",
      " 9   concave_points           569 non-null    float64\n",
      " 10  symmetry                 569 non-null    float64\n",
      " 11  fractal_dimension        569 non-null    float64\n",
      " 12  SE_radius                569 non-null    float64\n",
      " 13  SE_texture               569 non-null    float64\n",
      " 14  SE_perimeter             569 non-null    float64\n",
      " 15  SE_area                  569 non-null    float64\n",
      " 16  SE_smoothness            569 non-null    float64\n",
      " 17  SE_compactness           569 non-null    float64\n",
      " 18  SE_concavity             569 non-null    float64\n",
      " 19  SE_concave_points        569 non-null    float64\n",
      " 20  SE_symmetry              569 non-null    float64\n",
      " 21  SE_fractal_dimension     569 non-null    float64\n",
      " 22  worst_radius             569 non-null    float64\n",
      " 23  worst_texture            569 non-null    float64\n",
      " 24  worst_perimeter          569 non-null    float64\n",
      " 25  worst_area               569 non-null    float64\n",
      " 26  worst_smoothness         569 non-null    float64\n",
      " 27  worst_compactness        569 non-null    float64\n",
      " 28  worst_concavity          569 non-null    float64\n",
      " 29  worst_concave_points     569 non-null    float64\n",
      " 30  worst_symmetry           569 non-null    float64\n",
      " 31  worst_fractal_dimension  569 non-null    float64\n",
      "dtypes: float64(30), int64(1), object(1)\n",
      "memory usage: 142.4+ KB\n"
     ]
    }
   ],
   "source": [
    "#checking column data type\n",
    "df.info()"
   ]
  },
  {
   "cell_type": "code",
   "execution_count": 6,
   "metadata": {},
   "outputs": [
    {
     "data": {
      "text/plain": [
       "id                         0\n",
       "diagnosis                  0\n",
       "radius                     0\n",
       "texture                    0\n",
       "perimeter                  0\n",
       "area                       0\n",
       "smoothness                 0\n",
       "compactness                0\n",
       "concavity                  0\n",
       "concave_points             0\n",
       "symmetry                   0\n",
       "fractal_dimension          0\n",
       "SE_radius                  0\n",
       "SE_texture                 0\n",
       "SE_perimeter               0\n",
       "SE_area                    0\n",
       "SE_smoothness              0\n",
       "SE_compactness             0\n",
       "SE_concavity               0\n",
       "SE_concave_points          0\n",
       "SE_symmetry                0\n",
       "SE_fractal_dimension       0\n",
       "worst_radius               0\n",
       "worst_texture              0\n",
       "worst_perimeter            0\n",
       "worst_area                 0\n",
       "worst_smoothness           0\n",
       "worst_compactness          0\n",
       "worst_concavity            0\n",
       "worst_concave_points       0\n",
       "worst_symmetry             0\n",
       "worst_fractal_dimension    0\n",
       "dtype: int64"
      ]
     },
     "execution_count": 6,
     "metadata": {},
     "output_type": "execute_result"
    }
   ],
   "source": [
    "#Checking for missing Values\n",
    "df.isna().sum()"
   ]
  },
  {
   "cell_type": "code",
   "execution_count": 7,
   "metadata": {},
   "outputs": [
    {
     "name": "stdout",
     "output_type": "stream",
     "text": [
      "The mean, Standard deviation & Median - column - 50% can be seen in below table for all variables\n"
     ]
    },
    {
     "data": {
      "text/html": [
       "<div>\n",
       "<style scoped>\n",
       "    .dataframe tbody tr th:only-of-type {\n",
       "        vertical-align: middle;\n",
       "    }\n",
       "\n",
       "    .dataframe tbody tr th {\n",
       "        vertical-align: top;\n",
       "    }\n",
       "\n",
       "    .dataframe thead th {\n",
       "        text-align: right;\n",
       "    }\n",
       "</style>\n",
       "<table border=\"1\" class=\"dataframe\">\n",
       "  <thead>\n",
       "    <tr style=\"text-align: right;\">\n",
       "      <th></th>\n",
       "      <th>count</th>\n",
       "      <th>mean</th>\n",
       "      <th>std</th>\n",
       "      <th>min</th>\n",
       "      <th>25%</th>\n",
       "      <th>50%</th>\n",
       "      <th>75%</th>\n",
       "      <th>max</th>\n",
       "    </tr>\n",
       "  </thead>\n",
       "  <tbody>\n",
       "    <tr>\n",
       "      <th>id</th>\n",
       "      <td>569.0</td>\n",
       "      <td>30371831.43</td>\n",
       "      <td>1.250206e+08</td>\n",
       "      <td>8670.00</td>\n",
       "      <td>869218.00</td>\n",
       "      <td>906024.00</td>\n",
       "      <td>8813129.00</td>\n",
       "      <td>9.113205e+08</td>\n",
       "    </tr>\n",
       "    <tr>\n",
       "      <th>radius</th>\n",
       "      <td>569.0</td>\n",
       "      <td>14.13</td>\n",
       "      <td>3.520000e+00</td>\n",
       "      <td>6.98</td>\n",
       "      <td>11.70</td>\n",
       "      <td>13.37</td>\n",
       "      <td>15.78</td>\n",
       "      <td>2.811000e+01</td>\n",
       "    </tr>\n",
       "    <tr>\n",
       "      <th>texture</th>\n",
       "      <td>569.0</td>\n",
       "      <td>19.29</td>\n",
       "      <td>4.300000e+00</td>\n",
       "      <td>9.71</td>\n",
       "      <td>16.17</td>\n",
       "      <td>18.84</td>\n",
       "      <td>21.80</td>\n",
       "      <td>3.928000e+01</td>\n",
       "    </tr>\n",
       "    <tr>\n",
       "      <th>perimeter</th>\n",
       "      <td>569.0</td>\n",
       "      <td>91.97</td>\n",
       "      <td>2.430000e+01</td>\n",
       "      <td>43.79</td>\n",
       "      <td>75.17</td>\n",
       "      <td>86.24</td>\n",
       "      <td>104.10</td>\n",
       "      <td>1.885000e+02</td>\n",
       "    </tr>\n",
       "    <tr>\n",
       "      <th>area</th>\n",
       "      <td>569.0</td>\n",
       "      <td>654.89</td>\n",
       "      <td>3.519100e+02</td>\n",
       "      <td>143.50</td>\n",
       "      <td>420.30</td>\n",
       "      <td>551.10</td>\n",
       "      <td>782.70</td>\n",
       "      <td>2.501000e+03</td>\n",
       "    </tr>\n",
       "    <tr>\n",
       "      <th>smoothness</th>\n",
       "      <td>569.0</td>\n",
       "      <td>0.10</td>\n",
       "      <td>1.000000e-02</td>\n",
       "      <td>0.05</td>\n",
       "      <td>0.09</td>\n",
       "      <td>0.10</td>\n",
       "      <td>0.11</td>\n",
       "      <td>1.600000e-01</td>\n",
       "    </tr>\n",
       "    <tr>\n",
       "      <th>compactness</th>\n",
       "      <td>569.0</td>\n",
       "      <td>0.10</td>\n",
       "      <td>5.000000e-02</td>\n",
       "      <td>0.02</td>\n",
       "      <td>0.06</td>\n",
       "      <td>0.09</td>\n",
       "      <td>0.13</td>\n",
       "      <td>3.500000e-01</td>\n",
       "    </tr>\n",
       "    <tr>\n",
       "      <th>concavity</th>\n",
       "      <td>569.0</td>\n",
       "      <td>0.09</td>\n",
       "      <td>8.000000e-02</td>\n",
       "      <td>0.00</td>\n",
       "      <td>0.03</td>\n",
       "      <td>0.06</td>\n",
       "      <td>0.13</td>\n",
       "      <td>4.300000e-01</td>\n",
       "    </tr>\n",
       "    <tr>\n",
       "      <th>concave_points</th>\n",
       "      <td>569.0</td>\n",
       "      <td>0.05</td>\n",
       "      <td>4.000000e-02</td>\n",
       "      <td>0.00</td>\n",
       "      <td>0.02</td>\n",
       "      <td>0.03</td>\n",
       "      <td>0.07</td>\n",
       "      <td>2.000000e-01</td>\n",
       "    </tr>\n",
       "    <tr>\n",
       "      <th>symmetry</th>\n",
       "      <td>569.0</td>\n",
       "      <td>0.18</td>\n",
       "      <td>3.000000e-02</td>\n",
       "      <td>0.11</td>\n",
       "      <td>0.16</td>\n",
       "      <td>0.18</td>\n",
       "      <td>0.20</td>\n",
       "      <td>3.000000e-01</td>\n",
       "    </tr>\n",
       "    <tr>\n",
       "      <th>fractal_dimension</th>\n",
       "      <td>569.0</td>\n",
       "      <td>0.06</td>\n",
       "      <td>1.000000e-02</td>\n",
       "      <td>0.05</td>\n",
       "      <td>0.06</td>\n",
       "      <td>0.06</td>\n",
       "      <td>0.07</td>\n",
       "      <td>1.000000e-01</td>\n",
       "    </tr>\n",
       "    <tr>\n",
       "      <th>SE_radius</th>\n",
       "      <td>569.0</td>\n",
       "      <td>0.41</td>\n",
       "      <td>2.800000e-01</td>\n",
       "      <td>0.11</td>\n",
       "      <td>0.23</td>\n",
       "      <td>0.32</td>\n",
       "      <td>0.48</td>\n",
       "      <td>2.870000e+00</td>\n",
       "    </tr>\n",
       "    <tr>\n",
       "      <th>SE_texture</th>\n",
       "      <td>569.0</td>\n",
       "      <td>1.22</td>\n",
       "      <td>5.500000e-01</td>\n",
       "      <td>0.36</td>\n",
       "      <td>0.83</td>\n",
       "      <td>1.11</td>\n",
       "      <td>1.47</td>\n",
       "      <td>4.880000e+00</td>\n",
       "    </tr>\n",
       "    <tr>\n",
       "      <th>SE_perimeter</th>\n",
       "      <td>569.0</td>\n",
       "      <td>2.87</td>\n",
       "      <td>2.020000e+00</td>\n",
       "      <td>0.76</td>\n",
       "      <td>1.61</td>\n",
       "      <td>2.29</td>\n",
       "      <td>3.36</td>\n",
       "      <td>2.198000e+01</td>\n",
       "    </tr>\n",
       "    <tr>\n",
       "      <th>SE_area</th>\n",
       "      <td>569.0</td>\n",
       "      <td>40.34</td>\n",
       "      <td>4.549000e+01</td>\n",
       "      <td>6.80</td>\n",
       "      <td>17.85</td>\n",
       "      <td>24.53</td>\n",
       "      <td>45.19</td>\n",
       "      <td>5.422000e+02</td>\n",
       "    </tr>\n",
       "    <tr>\n",
       "      <th>SE_smoothness</th>\n",
       "      <td>569.0</td>\n",
       "      <td>0.01</td>\n",
       "      <td>0.000000e+00</td>\n",
       "      <td>0.00</td>\n",
       "      <td>0.01</td>\n",
       "      <td>0.01</td>\n",
       "      <td>0.01</td>\n",
       "      <td>3.000000e-02</td>\n",
       "    </tr>\n",
       "    <tr>\n",
       "      <th>SE_compactness</th>\n",
       "      <td>569.0</td>\n",
       "      <td>0.03</td>\n",
       "      <td>2.000000e-02</td>\n",
       "      <td>0.00</td>\n",
       "      <td>0.01</td>\n",
       "      <td>0.02</td>\n",
       "      <td>0.03</td>\n",
       "      <td>1.400000e-01</td>\n",
       "    </tr>\n",
       "    <tr>\n",
       "      <th>SE_concavity</th>\n",
       "      <td>569.0</td>\n",
       "      <td>0.03</td>\n",
       "      <td>3.000000e-02</td>\n",
       "      <td>0.00</td>\n",
       "      <td>0.02</td>\n",
       "      <td>0.03</td>\n",
       "      <td>0.04</td>\n",
       "      <td>4.000000e-01</td>\n",
       "    </tr>\n",
       "    <tr>\n",
       "      <th>SE_concave_points</th>\n",
       "      <td>569.0</td>\n",
       "      <td>0.01</td>\n",
       "      <td>1.000000e-02</td>\n",
       "      <td>0.00</td>\n",
       "      <td>0.01</td>\n",
       "      <td>0.01</td>\n",
       "      <td>0.01</td>\n",
       "      <td>5.000000e-02</td>\n",
       "    </tr>\n",
       "    <tr>\n",
       "      <th>SE_symmetry</th>\n",
       "      <td>569.0</td>\n",
       "      <td>0.02</td>\n",
       "      <td>1.000000e-02</td>\n",
       "      <td>0.01</td>\n",
       "      <td>0.02</td>\n",
       "      <td>0.02</td>\n",
       "      <td>0.02</td>\n",
       "      <td>8.000000e-02</td>\n",
       "    </tr>\n",
       "    <tr>\n",
       "      <th>SE_fractal_dimension</th>\n",
       "      <td>569.0</td>\n",
       "      <td>0.00</td>\n",
       "      <td>0.000000e+00</td>\n",
       "      <td>0.00</td>\n",
       "      <td>0.00</td>\n",
       "      <td>0.00</td>\n",
       "      <td>0.00</td>\n",
       "      <td>3.000000e-02</td>\n",
       "    </tr>\n",
       "    <tr>\n",
       "      <th>worst_radius</th>\n",
       "      <td>569.0</td>\n",
       "      <td>16.27</td>\n",
       "      <td>4.830000e+00</td>\n",
       "      <td>7.93</td>\n",
       "      <td>13.01</td>\n",
       "      <td>14.97</td>\n",
       "      <td>18.79</td>\n",
       "      <td>3.604000e+01</td>\n",
       "    </tr>\n",
       "    <tr>\n",
       "      <th>worst_texture</th>\n",
       "      <td>569.0</td>\n",
       "      <td>25.68</td>\n",
       "      <td>6.150000e+00</td>\n",
       "      <td>12.02</td>\n",
       "      <td>21.08</td>\n",
       "      <td>25.41</td>\n",
       "      <td>29.72</td>\n",
       "      <td>4.954000e+01</td>\n",
       "    </tr>\n",
       "    <tr>\n",
       "      <th>worst_perimeter</th>\n",
       "      <td>569.0</td>\n",
       "      <td>107.26</td>\n",
       "      <td>3.360000e+01</td>\n",
       "      <td>50.41</td>\n",
       "      <td>84.11</td>\n",
       "      <td>97.66</td>\n",
       "      <td>125.40</td>\n",
       "      <td>2.512000e+02</td>\n",
       "    </tr>\n",
       "    <tr>\n",
       "      <th>worst_area</th>\n",
       "      <td>569.0</td>\n",
       "      <td>880.58</td>\n",
       "      <td>5.693600e+02</td>\n",
       "      <td>185.20</td>\n",
       "      <td>515.30</td>\n",
       "      <td>686.50</td>\n",
       "      <td>1084.00</td>\n",
       "      <td>4.254000e+03</td>\n",
       "    </tr>\n",
       "    <tr>\n",
       "      <th>worst_smoothness</th>\n",
       "      <td>569.0</td>\n",
       "      <td>0.13</td>\n",
       "      <td>2.000000e-02</td>\n",
       "      <td>0.07</td>\n",
       "      <td>0.12</td>\n",
       "      <td>0.13</td>\n",
       "      <td>0.15</td>\n",
       "      <td>2.200000e-01</td>\n",
       "    </tr>\n",
       "    <tr>\n",
       "      <th>worst_compactness</th>\n",
       "      <td>569.0</td>\n",
       "      <td>0.25</td>\n",
       "      <td>1.600000e-01</td>\n",
       "      <td>0.03</td>\n",
       "      <td>0.15</td>\n",
       "      <td>0.21</td>\n",
       "      <td>0.34</td>\n",
       "      <td>1.060000e+00</td>\n",
       "    </tr>\n",
       "    <tr>\n",
       "      <th>worst_concavity</th>\n",
       "      <td>569.0</td>\n",
       "      <td>0.27</td>\n",
       "      <td>2.100000e-01</td>\n",
       "      <td>0.00</td>\n",
       "      <td>0.11</td>\n",
       "      <td>0.23</td>\n",
       "      <td>0.38</td>\n",
       "      <td>1.250000e+00</td>\n",
       "    </tr>\n",
       "    <tr>\n",
       "      <th>worst_concave_points</th>\n",
       "      <td>569.0</td>\n",
       "      <td>0.11</td>\n",
       "      <td>7.000000e-02</td>\n",
       "      <td>0.00</td>\n",
       "      <td>0.06</td>\n",
       "      <td>0.10</td>\n",
       "      <td>0.16</td>\n",
       "      <td>2.900000e-01</td>\n",
       "    </tr>\n",
       "    <tr>\n",
       "      <th>worst_symmetry</th>\n",
       "      <td>569.0</td>\n",
       "      <td>0.29</td>\n",
       "      <td>6.000000e-02</td>\n",
       "      <td>0.16</td>\n",
       "      <td>0.25</td>\n",
       "      <td>0.28</td>\n",
       "      <td>0.32</td>\n",
       "      <td>6.600000e-01</td>\n",
       "    </tr>\n",
       "    <tr>\n",
       "      <th>worst_fractal_dimension</th>\n",
       "      <td>569.0</td>\n",
       "      <td>0.08</td>\n",
       "      <td>2.000000e-02</td>\n",
       "      <td>0.06</td>\n",
       "      <td>0.07</td>\n",
       "      <td>0.08</td>\n",
       "      <td>0.09</td>\n",
       "      <td>2.100000e-01</td>\n",
       "    </tr>\n",
       "  </tbody>\n",
       "</table>\n",
       "</div>"
      ],
      "text/plain": [
       "                         count         mean           std      min        25%  \\\n",
       "id                       569.0  30371831.43  1.250206e+08  8670.00  869218.00   \n",
       "radius                   569.0        14.13  3.520000e+00     6.98      11.70   \n",
       "texture                  569.0        19.29  4.300000e+00     9.71      16.17   \n",
       "perimeter                569.0        91.97  2.430000e+01    43.79      75.17   \n",
       "area                     569.0       654.89  3.519100e+02   143.50     420.30   \n",
       "smoothness               569.0         0.10  1.000000e-02     0.05       0.09   \n",
       "compactness              569.0         0.10  5.000000e-02     0.02       0.06   \n",
       "concavity                569.0         0.09  8.000000e-02     0.00       0.03   \n",
       "concave_points           569.0         0.05  4.000000e-02     0.00       0.02   \n",
       "symmetry                 569.0         0.18  3.000000e-02     0.11       0.16   \n",
       "fractal_dimension        569.0         0.06  1.000000e-02     0.05       0.06   \n",
       "SE_radius                569.0         0.41  2.800000e-01     0.11       0.23   \n",
       "SE_texture               569.0         1.22  5.500000e-01     0.36       0.83   \n",
       "SE_perimeter             569.0         2.87  2.020000e+00     0.76       1.61   \n",
       "SE_area                  569.0        40.34  4.549000e+01     6.80      17.85   \n",
       "SE_smoothness            569.0         0.01  0.000000e+00     0.00       0.01   \n",
       "SE_compactness           569.0         0.03  2.000000e-02     0.00       0.01   \n",
       "SE_concavity             569.0         0.03  3.000000e-02     0.00       0.02   \n",
       "SE_concave_points        569.0         0.01  1.000000e-02     0.00       0.01   \n",
       "SE_symmetry              569.0         0.02  1.000000e-02     0.01       0.02   \n",
       "SE_fractal_dimension     569.0         0.00  0.000000e+00     0.00       0.00   \n",
       "worst_radius             569.0        16.27  4.830000e+00     7.93      13.01   \n",
       "worst_texture            569.0        25.68  6.150000e+00    12.02      21.08   \n",
       "worst_perimeter          569.0       107.26  3.360000e+01    50.41      84.11   \n",
       "worst_area               569.0       880.58  5.693600e+02   185.20     515.30   \n",
       "worst_smoothness         569.0         0.13  2.000000e-02     0.07       0.12   \n",
       "worst_compactness        569.0         0.25  1.600000e-01     0.03       0.15   \n",
       "worst_concavity          569.0         0.27  2.100000e-01     0.00       0.11   \n",
       "worst_concave_points     569.0         0.11  7.000000e-02     0.00       0.06   \n",
       "worst_symmetry           569.0         0.29  6.000000e-02     0.16       0.25   \n",
       "worst_fractal_dimension  569.0         0.08  2.000000e-02     0.06       0.07   \n",
       "\n",
       "                               50%         75%           max  \n",
       "id                       906024.00  8813129.00  9.113205e+08  \n",
       "radius                       13.37       15.78  2.811000e+01  \n",
       "texture                      18.84       21.80  3.928000e+01  \n",
       "perimeter                    86.24      104.10  1.885000e+02  \n",
       "area                        551.10      782.70  2.501000e+03  \n",
       "smoothness                    0.10        0.11  1.600000e-01  \n",
       "compactness                   0.09        0.13  3.500000e-01  \n",
       "concavity                     0.06        0.13  4.300000e-01  \n",
       "concave_points                0.03        0.07  2.000000e-01  \n",
       "symmetry                      0.18        0.20  3.000000e-01  \n",
       "fractal_dimension             0.06        0.07  1.000000e-01  \n",
       "SE_radius                     0.32        0.48  2.870000e+00  \n",
       "SE_texture                    1.11        1.47  4.880000e+00  \n",
       "SE_perimeter                  2.29        3.36  2.198000e+01  \n",
       "SE_area                      24.53       45.19  5.422000e+02  \n",
       "SE_smoothness                 0.01        0.01  3.000000e-02  \n",
       "SE_compactness                0.02        0.03  1.400000e-01  \n",
       "SE_concavity                  0.03        0.04  4.000000e-01  \n",
       "SE_concave_points             0.01        0.01  5.000000e-02  \n",
       "SE_symmetry                   0.02        0.02  8.000000e-02  \n",
       "SE_fractal_dimension          0.00        0.00  3.000000e-02  \n",
       "worst_radius                 14.97       18.79  3.604000e+01  \n",
       "worst_texture                25.41       29.72  4.954000e+01  \n",
       "worst_perimeter              97.66      125.40  2.512000e+02  \n",
       "worst_area                  686.50     1084.00  4.254000e+03  \n",
       "worst_smoothness              0.13        0.15  2.200000e-01  \n",
       "worst_compactness             0.21        0.34  1.060000e+00  \n",
       "worst_concavity               0.23        0.38  1.250000e+00  \n",
       "worst_concave_points          0.10        0.16  2.900000e-01  \n",
       "worst_symmetry                0.28        0.32  6.600000e-01  \n",
       "worst_fractal_dimension       0.08        0.09  2.100000e-01  "
      ]
     },
     "execution_count": 7,
     "metadata": {},
     "output_type": "execute_result"
    }
   ],
   "source": [
    "#descriptive statistics\n",
    "print(\"The mean, Standard deviation & Median - column - 50% can be seen in below table for all variables\")\n",
    "df.describe().transpose().round(2)"
   ]
  },
  {
   "cell_type": "markdown",
   "metadata": {},
   "source": [
    "# **Answer to Question 1.a**\n",
    "**Mean value of perimeter is 91.97,Standard deviation of perimeter is 24.3 & Median value of perimeter is 86.24**"
   ]
  },
  {
   "cell_type": "code",
   "execution_count": 8,
   "metadata": {},
   "outputs": [
    {
     "data": {
      "text/plain": [
       "array([[<AxesSubplot:title={'center':'radius'}>]], dtype=object)"
      ]
     },
     "execution_count": 8,
     "metadata": {},
     "output_type": "execute_result"
    },
    {
     "data": {
      "image/png": "[encoded data removed]",
      "text/plain": [
       "<Figure size 432x288 with 1 Axes>"
      ]
     },
     "metadata": {
      "needs_background": "light"
     },
     "output_type": "display_data"
    }
   ],
   "source": [
    "# Histogram to chjeck Radius distribution\n",
    "df.hist(column='radius',alpha=1,color='green',bins=20,ylabelsize='medium',xlabelsize='medium')"
   ]
  },
  {
   "cell_type": "code",
   "execution_count": 9,
   "metadata": {},
   "outputs": [
    {
     "data": {
      "image/png": "[encoded data removed]",
      "text/plain": [
       "<Figure size 432x288 with 1 Axes>"
      ]
     },
     "metadata": {
      "needs_background": "light"
     },
     "output_type": "display_data"
    }
   ],
   "source": [
    "#qq plot form radius variable\n",
    "import pylab\n",
    "import scipy.stats as stats\n",
    "stats.probplot(df['radius'],dist='norm',plot=pylab)\n",
    "pylab.show()"
   ]
  },
  {
   "cell_type": "code",
   "execution_count": 10,
   "metadata": {},
   "outputs": [
    {
     "name": "stdout",
     "output_type": "stream",
     "text": [
      "stats is=0.94, p=0.00\n",
      "\n",
      "Since p value is 0.00 radius do not follow Normal distribution\n"
     ]
    }
   ],
   "source": [
    "# shapiro Test for Normality\n",
    "from scipy.stats import shapiro\n",
    "stats,pvalue=shapiro(df['radius'])\n",
    "print('stats is=%.2f, p=%.2f\\n' %(stats,pvalue))\n",
    "print(\"Since p value is %.2f radius do not follow Normal distribution\" %(pvalue))"
   ]
  },
  {
   "cell_type": "markdown",
   "metadata": {},
   "source": [
    "# Answer to Question-1.b\n",
    "**Form above historgram & qq Plot radius do not seem to be normally distributed<br>**\n",
    "**same can also be confirmed by shapiro test for Normality <br>**\n",
    "**Thus We can Conclude that it is not Normally distributed it look Right skewed**"
   ]
  },
  {
   "cell_type": "code",
   "execution_count": 11,
   "metadata": {},
   "outputs": [
    {
     "data": {
      "text/plain": [
       "<AxesSubplot:>"
      ]
     },
     "execution_count": 11,
     "metadata": {},
     "output_type": "execute_result"
    },
    {
     "data": {
      "image/png": "[encoded data removed]",
      "text/plain": [
       "<Figure size 432x288 with 1 Axes>"
      ]
     },
     "metadata": {
      "needs_background": "light"
     },
     "output_type": "display_data"
    }
   ],
   "source": [
    "#target variable distribution\n",
    "pd.value_counts(df[\"diagnosis\"]).plot(kind=\"bar\")\n",
    "#target Variable seems to be fairly balanced we do  ot need oversampling"
   ]
  },
  {
   "cell_type": "code",
   "execution_count": 12,
   "metadata": {},
   "outputs": [],
   "source": [
    "#sns.pairplot(df,palette=('B','M') ,hue = \"diagnosis\")"
   ]
  },
  {
   "cell_type": "code",
   "execution_count": 13,
   "metadata": {},
   "outputs": [],
   "source": [
    "#Correlation between all variables\n",
    "correlation_mat = df.corr()\n",
    "corr_pairs = correlation_mat.unstack()\n",
    "corr_pairs = corr_pairs.sort_values(kind=\"quicksort\")\n",
    "high_corr_pairs = corr_pairs[corr_pairs>.75]"
   ]
  },
  {
   "cell_type": "code",
   "execution_count": 14,
   "metadata": {},
   "outputs": [
    {
     "data": {
      "text/plain": [
       "worst_area         SE_radius          0.751548\n",
       "SE_radius          worst_area         0.751548\n",
       "worst_concavity    concave_points     0.752399\n",
       "concave_points     worst_concavity    0.752399\n",
       "worst_compactness  concavity          0.754968\n",
       "dtype: float64"
      ]
     },
     "execution_count": 14,
     "metadata": {},
     "output_type": "execute_result"
    }
   ],
   "source": [
    "#identifying highly correlated pairs\n",
    "high_corr_pairs.head(5)"
   ]
  },
  {
   "cell_type": "markdown",
   "metadata": {},
   "source": [
    "__There are many correlated variables \n",
    "Ideally i should drop one variable at a time after analysis of each correlated variable pair with target variable\n",
    "but for the interest of time i am using Random forrest Model to identify top features and will use them for further Modeling__\n",
    "\n",
    "__other approches can be like PCA & permutation feature selection can also be used for variable reduction/selection__\n"
   ]
  },
  {
   "cell_type": "code",
   "execution_count": 15,
   "metadata": {},
   "outputs": [],
   "source": [
    "#creating flag variable for the diagnosis variable\n",
    "df[\"target_var\"] = np.where(df[\"diagnosis\"].str.contains(\"M\"), 1, 0)"
   ]
  },
  {
   "cell_type": "code",
   "execution_count": 16,
   "metadata": {},
   "outputs": [],
   "source": [
    "#importing Libraries\n",
    "from sklearn.metrics import confusion_matrix, ConfusionMatrixDisplay, accuracy_score\n",
    "from sklearn.model_selection import train_test_split"
   ]
  },
  {
   "cell_type": "code",
   "execution_count": 17,
   "metadata": {},
   "outputs": [],
   "source": [
    "# spliting data in to train & test data set\n",
    "target = df[\"target_var\"]\n",
    "features = df.drop([\"id\",\"diagnosis\",\"target_var\"], axis=1)\n",
    "X_train, X_test, y_train, y_test = train_test_split(features,target, test_size = 0.3, random_state = 5)"
   ]
  },
  {
   "cell_type": "code",
   "execution_count": 18,
   "metadata": {},
   "outputs": [],
   "source": [
    "#Building  RF Model\n",
    "from sklearn.ensemble import RandomForestClassifier\n",
    "rf = RandomForestClassifier(n_jobs=20,criterion=\"entropy\",random_state=9999)\n",
    "rf=rf.fit(X_train, y_train)\n",
    "preds = rf.predict_proba(X_test)[:,1]\n",
    "y_pred=rf.predict(X_test)\n",
    "cm=confusion_matrix(y_test, y_pred)"
   ]
  },
  {
   "cell_type": "code",
   "execution_count": 19,
   "metadata": {},
   "outputs": [
    {
     "name": "stdout",
     "output_type": "stream",
     "text": [
      "average accuracy score on test data for simple rf model is = 0.971\n"
     ]
    }
   ],
   "source": [
    "#calculateing the accuracy score\n",
    "accuracy_score(y_test, y_pred)\n",
    "print('average accuracy score on test data for simple rf model is = %.3f'%accuracy_score(y_test, y_pred))"
   ]
  },
  {
   "cell_type": "code",
   "execution_count": 20,
   "metadata": {},
   "outputs": [
    {
     "name": "stdout",
     "output_type": "stream",
     "text": [
      "Confusion matrix using test Data for simple Random forrrest Model\n"
     ]
    },
    {
     "data": {
      "text/plain": [
       "<sklearn.metrics._plot.confusion_matrix.ConfusionMatrixDisplay at 0x249b02d4490>"
      ]
     },
     "execution_count": 20,
     "metadata": {},
     "output_type": "execute_result"
    },
    {
     "data": {
      "image/png": "[encoded data removed]",
      "text/plain": [
       "<Figure size 432x288 with 2 Axes>"
      ]
     },
     "metadata": {
      "needs_background": "light"
     },
     "output_type": "display_data"
    }
   ],
   "source": [
    "#Creating Confisuon matrix\n",
    "cm=confusion_matrix(y_test, y_pred)\n",
    "cmd = ConfusionMatrixDisplay(cm, display_labels=['B','M'])\n",
    "print (\"Confusion matrix using test Data for simple Random forrrest Model\")\n",
    "cmd.plot()"
   ]
  },
  {
   "cell_type": "code",
   "execution_count": 21,
   "metadata": {},
   "outputs": [
    {
     "data": {
      "text/plain": [
       "worst_perimeter            0.134416\n",
       "concave_points             0.115031\n",
       "worst_concave_points       0.108682\n",
       "worst_radius               0.102781\n",
       "worst_area                 0.094794\n",
       "concavity                  0.081055\n",
       "worst_concavity            0.054854\n",
       "perimeter                  0.038695\n",
       "SE_area                    0.034620\n",
       "worst_texture              0.025131\n",
       "SE_perimeter               0.024079\n",
       "texture                    0.022174\n",
       "area                       0.021203\n",
       "radius                     0.019967\n",
       "worst_smoothness           0.015525\n",
       "compactness                0.014645\n",
       "worst_fractal_dimension    0.012089\n",
       "worst_compactness          0.011997\n",
       "worst_symmetry             0.011379\n",
       "SE_concave_points          0.007274\n",
       "SE_radius                  0.006641\n",
       "SE_fractal_dimension       0.006593\n",
       "smoothness                 0.006310\n",
       "symmetry                   0.005779\n",
       "SE_compactness             0.005462\n",
       "SE_concavity               0.004985\n",
       "SE_symmetry                0.004052\n",
       "SE_smoothness              0.003908\n",
       "fractal_dimension          0.003325\n",
       "SE_texture                 0.002554\n",
       "dtype: float64"
      ]
     },
     "execution_count": 21,
     "metadata": {},
     "output_type": "execute_result"
    }
   ],
   "source": [
    "#printing important  Features in decending order\n",
    "pd.Series(rf.feature_importances_, X_train.columns).sort_values(ascending= False)"
   ]
  },
  {
   "cell_type": "code",
   "execution_count": 22,
   "metadata": {},
   "outputs": [],
   "source": [
    "#Selecting the Top Features only Cut off criteria is feature contribution is less than 2% in prediction\n",
    "selected_features = ['worst_perimeter','worst_concave_points','SE_perimeter','worst_area','perimeter','concave_points',\n",
    "'concavity','worst_concavity','radius','compactness','worst_texture','worst_compactness','worst_radius','texture']"
   ]
  },
  {
   "cell_type": "code",
   "execution_count": 23,
   "metadata": {},
   "outputs": [],
   "source": [
    "#subsetiing Dataframe by keeping important features only\n",
    "features = df[selected_features]\n",
    "target = df[\"target_var\"]\n",
    "#features = df.drop([\"id\",\"diagnosis\",\"target_var\"], axis=1)\n",
    "features = df[selected_features]\n",
    "X_train, X_test, y_train, y_test = train_test_split(features,target, test_size = 0.3, random_state = 5)"
   ]
  },
  {
   "cell_type": "code",
   "execution_count": 24,
   "metadata": {},
   "outputs": [
    {
     "name": "stdout",
     "output_type": "stream",
     "text": [
      "Fitting 3 folds for each of 32 candidates, totalling 96 fits\n"
     ]
    },
    {
     "data": {
      "text/plain": [
       "{'bootstrap': True,\n",
       " 'max_depth': 10,\n",
       " 'max_features': 'auto',\n",
       " 'min_samples_leaf': 1,\n",
       " 'n_estimators': 100}"
      ]
     },
     "execution_count": 24,
     "metadata": {},
     "output_type": "execute_result"
    }
   ],
   "source": [
    "# Tuning the parametr using Grid Dearch and Cross validation\n",
    "from sklearn.model_selection import GridSearchCV\n",
    "from sklearn.model_selection import cross_val_score\n",
    "parameters = {'bootstrap': [True],\n",
    " 'max_depth': [5,10,15,20],\n",
    " 'max_features': ['auto', 'sqrt'],\n",
    " 'min_samples_leaf': [1, 2, 4, 8],\n",
    " 'n_estimators': [100]}\n",
    "clf = GridSearchCV(RandomForestClassifier(), parameters, cv = 3, verbose = 2, n_jobs= 4)\n",
    "clf.fit(features,target)\n",
    "clf.best_params_\n"
   ]
  },
  {
   "cell_type": "code",
   "execution_count": 26,
   "metadata": {},
   "outputs": [
    {
     "name": "stdout",
     "output_type": "stream",
     "text": [
      "average accuracy score on 3 cross validation set on training data is = 0.962\n"
     ]
    }
   ],
   "source": [
    "#trainging Random forrest Model with identified parameters using cross validation\n",
    "rf_hy = RandomForestClassifier(bootstrap= True,\n",
    " max_depth= 10,\n",
    " max_features= 'sqrt',\n",
    " min_samples_leaf= 1,\n",
    " n_estimators= 100)\n",
    "rf_hy.fit(X_train, y_train)\n",
    "score_rf_cv = cross_val_score(rf_hy, X_train, y_train, cv = 3).mean()\n",
    "print('average accuracy score on 3 cross validation set on training data is = %.3f'%(score_rf_cv))"
   ]
  },
  {
   "cell_type": "code",
   "execution_count": 27,
   "metadata": {},
   "outputs": [
    {
     "name": "stdout",
     "output_type": "stream",
     "text": [
      "accuracy of Random forrest with Tuning on trst data is 0.982456\n"
     ]
    }
   ],
   "source": [
    "# testing RF model on Test Data\n",
    "preds = rf_hy.predict_proba(X_test)[:,1]\n",
    "y_pred=rf_hy.predict(X_test)\n",
    "print('accuracy of Random forrest with Tuning on trst data is %3f' %(accuracy_score(y_test, y_pred)))"
   ]
  },
  {
   "cell_type": "code",
   "execution_count": 28,
   "metadata": {},
   "outputs": [
    {
     "name": "stdout",
     "output_type": "stream",
     "text": [
      "Confusion matrix using test Data for simple Random forrrest Model\n"
     ]
    },
    {
     "data": {
      "text/plain": [
       "<sklearn.metrics._plot.confusion_matrix.ConfusionMatrixDisplay at 0x249b10a38e0>"
      ]
     },
     "execution_count": 28,
     "metadata": {},
     "output_type": "execute_result"
    },
    {
     "data": {
      "image/png": "[encoded data removed]",
      "text/plain": [
       "<Figure size 432x288 with 2 Axes>"
      ]
     },
     "metadata": {
      "needs_background": "light"
     },
     "output_type": "display_data"
    }
   ],
   "source": [
    "#Checking Confusion Matrix\n",
    "cm=confusion_matrix(y_test, y_pred)\n",
    "cmd = ConfusionMatrixDisplay(cm, display_labels=['B','M'])\n",
    "print (\"Confusion matrix using test Data for simple Random forrrest Model\")\n",
    "cmd.plot()"
   ]
  },
  {
   "cell_type": "code",
   "execution_count": 29,
   "metadata": {},
   "outputs": [
    {
     "name": "stdout",
     "output_type": "stream",
     "text": [
      "accuracy for GBM on Train Data is 0.944691\n"
     ]
    }
   ],
   "source": [
    "# Fitting GBM using Cross validation\n",
    "#interest of time not doing Hyperparameter optimization in GBM\n",
    "from sklearn.ensemble import GradientBoostingClassifier\n",
    "gbcl = GradientBoostingClassifier(n_estimators = 40, learning_rate = 0.05, random_state=22)\n",
    "gbcl = gbcl.fit(X_train, y_train)\n",
    "score_gbm_cv = cross_val_score(gbcl, X_train, y_train, cv = 3).mean()\n",
    "print('accuracy for GBM on Train Data is %3f' %score_gbm_cv)"
   ]
  },
  {
   "cell_type": "code",
   "execution_count": 30,
   "metadata": {},
   "outputs": [
    {
     "name": "stdout",
     "output_type": "stream",
     "text": [
      "accuracy for GBM on Test Data is 0.982456\n"
     ]
    }
   ],
   "source": [
    "#Testing GBM Model On Test Data\n",
    "pred_GB =gbcl.predict(X_test)\n",
    "acc_GB_test = accuracy_score(y_test, pred_GB)\n",
    "acc_GB_test\n",
    "print('accuracy for GBM on Test Data is %3f' %acc_GB_test)"
   ]
  },
  {
   "cell_type": "code",
   "execution_count": 31,
   "metadata": {},
   "outputs": [
    {
     "name": "stdout",
     "output_type": "stream",
     "text": [
      "accuracy for SVM on Train Data is 0.952210\n"
     ]
    }
   ],
   "source": [
    "## Fitting SVM using Cross validation\n",
    "#interest of time not doing Hyperparameter optimization in SVM\n",
    "\n",
    "from sklearn.svm import SVC\n",
    "svm = SVC(gamma = 'auto', kernel= 'linear', degree=2)  # Create an SVM model object\n",
    "svm = svm.fit(X_train, y_train)\n",
    "score_svm_cv = cross_val_score(svm, X_train, y_train, cv = 3).mean()\n",
    "print('accuracy for SVM on Train Data is %3f' %score_svm_cv)"
   ]
  },
  {
   "cell_type": "code",
   "execution_count": 32,
   "metadata": {},
   "outputs": [
    {
     "name": "stdout",
     "output_type": "stream",
     "text": [
      "accuracy for SVM on Test Data is 0.982456\n"
     ]
    }
   ],
   "source": [
    "#Testing SVM Model On Test Data\n",
    "pred_svm =svm.predict(X_test)\n",
    "acc_svm_test = accuracy_score(y_test, pred_svm)\n",
    "acc_svm_test\n",
    "print('accuracy for SVM on Test Data is %3f' %acc_svm_test)"
   ]
  },
  {
   "cell_type": "code",
   "execution_count": 33,
   "metadata": {},
   "outputs": [],
   "source": [
    "# Function to calculate all the Model Metrics for various MoDel comparisons\n",
    "def fit_n_print(model, X_train, X_test, y_train, y_test):  # take the model, train data and test data as input\n",
    "    \"\"\"\n",
    "    This function calculate various performance metrics for the Modesl on the Data \n",
    "    \"\"\"\n",
    "    from sklearn import metrics\n",
    "    \n",
    "    model.fit(X_train, y_train)   # fit the model using the train data\n",
    "\n",
    "    pred_train = model.predict(X_train)   # model predictions on the train data\n",
    "    pred_test = model.predict(X_test)     # model predictions on the test data\n",
    "\n",
    "    score = round(model.score(X_test, y_test), 3)   # accuracy on the test data\n",
    "\n",
    "\n",
    "    tn, fp, fn, tp = metrics.confusion_matrix(y_test, pred_test).ravel()  # confusion matrix for y_test and pred_test\n",
    "\n",
    "    recall = round(tp/(tp+fn), 3)     # calculate recall\n",
    "    precision = round(tp/(tp+fp), 3)  # calculate precision\n",
    "    specificity =round(tn/(tn+fp),3)  # calculate specificity\n",
    "    f1_score =  round(2*precision*recall/(precision + recall), 3)   # calculate f1 score\n",
    "    \n",
    "    \n",
    "    return score, recall, precision, specificity, f1_score, pred_train, pred_test  # return all the metrics"
   ]
  },
  {
   "cell_type": "code",
   "execution_count": 35,
   "metadata": {
    "scrolled": true
   },
   "outputs": [
    {
     "name": "stdout",
     "output_type": "stream",
     "text": [
      "A Comparision all the three Models in a tablular format on Test Data\n"
     ]
    },
    {
     "data": {
      "text/html": [
       "<div>\n",
       "<style scoped>\n",
       "    .dataframe tbody tr th:only-of-type {\n",
       "        vertical-align: middle;\n",
       "    }\n",
       "\n",
       "    .dataframe tbody tr th {\n",
       "        vertical-align: top;\n",
       "    }\n",
       "\n",
       "    .dataframe thead th {\n",
       "        text-align: right;\n",
       "    }\n",
       "</style>\n",
       "<table border=\"1\" class=\"dataframe\">\n",
       "  <thead>\n",
       "    <tr style=\"text-align: right;\">\n",
       "      <th></th>\n",
       "      <th>Accuracy</th>\n",
       "      <th>Recall</th>\n",
       "      <th>Precision</th>\n",
       "      <th>Specificity</th>\n",
       "      <th>F1 Score</th>\n",
       "    </tr>\n",
       "    <tr>\n",
       "      <th>Model</th>\n",
       "      <th></th>\n",
       "      <th></th>\n",
       "      <th></th>\n",
       "      <th></th>\n",
       "      <th></th>\n",
       "    </tr>\n",
       "  </thead>\n",
       "  <tbody>\n",
       "    <tr>\n",
       "      <th>Random_Forrest_hyperparameter</th>\n",
       "      <td>0.982</td>\n",
       "      <td>0.951</td>\n",
       "      <td>1.0</td>\n",
       "      <td>1.0</td>\n",
       "      <td>0.975</td>\n",
       "    </tr>\n",
       "    <tr>\n",
       "      <th>GBM</th>\n",
       "      <td>0.982</td>\n",
       "      <td>0.951</td>\n",
       "      <td>1.0</td>\n",
       "      <td>1.0</td>\n",
       "      <td>0.975</td>\n",
       "    </tr>\n",
       "    <tr>\n",
       "      <th>SVM</th>\n",
       "      <td>0.982</td>\n",
       "      <td>0.984</td>\n",
       "      <td>0.968</td>\n",
       "      <td>0.982</td>\n",
       "      <td>0.976</td>\n",
       "    </tr>\n",
       "  </tbody>\n",
       "</table>\n",
       "</div>"
      ],
      "text/plain": [
       "                              Accuracy Recall Precision Specificity F1 Score\n",
       "Model                                                                       \n",
       "Random_Forrest_hyperparameter    0.982  0.951       1.0         1.0    0.975\n",
       "GBM                              0.982  0.951       1.0         1.0    0.975\n",
       "SVM                              0.982  0.984     0.968       0.982    0.976"
      ]
     },
     "execution_count": 35,
     "metadata": {},
     "output_type": "execute_result"
    }
   ],
   "source": [
    "#Creating a Tableuar View of Various Model Performance Comparison\n",
    "\n",
    "result = {}   # Create an empty dictionary to later use to store metrics of each of the models\n",
    "# putting all 3 models in a for loop and appending the results of each of the models to the result dictionary\n",
    "for model, name  in list(zip([ rf_hy, gbcl, svm], ['Random_Forrest_hyperparameter', 'GBM', 'SVM'])):\n",
    "    result[name] = fit_n_print(model,X_train, X_test,y_train, y_test)\n",
    "    \n",
    "result1 = pd.DataFrame(np.array(list(result.values()))[:,0:5],    # make a dataframe out of the metrics from result dictionary \n",
    "                       columns= ['Accuracy','Recall','Precision','Specificity','F1 Score'], # name the columns appropriatly\n",
    "                      index= result.keys())   # use the model names as index\n",
    "\n",
    "result1.index.name = 'Model'   # name the index of the result1 dataframe as 'Model'\n",
    "print('A Comparision all the three Models in a tablular format on Test Data')\n",
    "result1 "
   ]
  },
  {
   "cell_type": "markdown",
   "metadata": {},
   "source": [
    "__END of Challenge #1__"
   ]
  },
  {
   "cell_type": "markdown",
   "metadata": {},
   "source": [
    "# Challenge #2: Spearman’s Footrule Distance"
   ]
  },
  {
   "cell_type": "markdown",
   "metadata": {},
   "source": [
    "#### Function to return the rank vector of a an list of items in Descending / Ascending order"
   ]
  },
  {
   "cell_type": "code",
   "execution_count": 36,
   "metadata": {},
   "outputs": [
    {
     "name": "stdout",
     "output_type": "stream",
     "text": [
      "[6, 5, 4, 7, 3, 2, 1, 7]\n"
     ]
    }
   ],
   "source": [
    "def calculateRankVector(vector, reverse_order):\n",
    "    rank_vector = {}\n",
    "    rank = 1\n",
    "    for element in sorted(vector, reverse = reverse_order):\n",
    "        if element not in rank_vector:\n",
    "            rank_vector[element] = rank\n",
    "            rank += 1\n",
    "    return([rank_vector[i] for i in vector])\n",
    "\n",
    "# Test case\n",
    "print(calculateRankVector([2,3,4,1,9,10,32,1], True))"
   ]
  },
  {
   "cell_type": "markdown",
   "metadata": {},
   "source": [
    "#### Calculate spearman distance between two scorers/rating agents\n",
    "\n",
    "1. Assert the scoring lists are complete and no chances of occurence of partial rankings. If happens the return value as -1\n",
    "2. Generate Rank Vectors based on scores\n",
    "3. Calculate spearman footrule distance\n",
    "4. Normalize the distance using a normalier so that 0 <= Normalised SF distance <= 1"
   ]
  },
  {
   "cell_type": "code",
   "execution_count": 37,
   "metadata": {},
   "outputs": [],
   "source": [
    "from numpy import asarray\n",
    "\n",
    "def sumSpearmanDistances(scores, proposedRanking):\n",
    "    \n",
    "    # Total raters/scorers who ranked these\n",
    "    num_scorers = [len(scores[item]) for item in scores]\n",
    "    \n",
    "    normalized_sf_dist = -1\n",
    "    \n",
    "    # Assert the data does not have partial ranking\n",
    "    if len(set(num_scorers)) > 1:\n",
    "        print('1 or more score is missing for at least one of the items.')\n",
    "\n",
    "    elif sorted([item for item in scores]) != sorted(proposedRanking):\n",
    "        print('Mismatch in items in score dict and proposedRanking.')\n",
    "    \n",
    "    else:\n",
    "    \n",
    "        ordered_scores = dict()\n",
    "        ordered_ranks = dict()\n",
    "\n",
    "        for i in range(max(num_scorers)):\n",
    "            ordered_scores['Score_'+str(i+1)] = [scores[item][i] for item in proposedRanking]\n",
    "\n",
    "        for score_list in ordered_scores:\n",
    "            ordered_ranks[score_list+'_rank'] = calculateRankVector(ordered_scores[score_list], True)\n",
    "\n",
    "        sf_distance = sum(abs(asarray(ordered_ranks['Score_1_rank']) - asarray(ordered_ranks['Score_2_rank'])))\n",
    "        normalizer = 0.5 * (len(ordered_ranks['Score_1_rank'])**2 -  (len(ordered_ranks['Score_1_rank'])%2) )   \n",
    "        normalized_sf_dist = sf_distance/normalizer\n",
    "    \n",
    "    return(normalized_sf_dist)\n",
    "    "
   ]
  },
  {
   "cell_type": "code",
   "execution_count": 38,
   "metadata": {},
   "outputs": [
    {
     "name": "stdout",
     "output_type": "stream",
     "text": [
      "0.5\n",
      "Mismatch in items in score dict and proposedRanking.\n",
      "-1\n"
     ]
    }
   ],
   "source": [
    "# Test case: returns a normalized sf distance as 0 <= norm_sf_dist <= 1\n",
    "scores1 = {'a':[1, 0.1], 'b':[90, 0.5], 'c':[0, 0.2]}\n",
    "proposedRanking1 = ['c', 'a', 'b']\n",
    "\n",
    "# Test case: returns -1 if scorings are not complete\n",
    "scores2 = {'a':[10, 0.1], 'b':[90, 0.1], 'c':[0, 0.2]}\n",
    "proposedRanking2 = ['c', 'b']\n",
    "\n",
    "print(sumSpearmanDistances(scores1, proposedRanking1))\n",
    "print(sumSpearmanDistances(scores2, proposedRanking2))"
   ]
  },
  {
   "cell_type": "markdown",
   "metadata": {},
   "source": [
    "__END OF Take Home test.__\n",
    "__Thank You.__"
   ]
  },
  {
   "cell_type": "code",
   "execution_count": null,
   "metadata": {},
   "outputs": [],
   "source": []
  }
 ],
 "metadata": {
  "kernelspec": {
   "display_name": "Python 3",
   "language": "python",
   "name": "python3"
  },
  "language_info": {
   "codemirror_mode": {
    "name": "ipython",
    "version": 3
   },
   "file_extension": ".py",
   "mimetype": "text/x-python",
   "name": "python",
   "nbconvert_exporter": "python",
   "pygments_lexer": "ipython3",
   "version": "3.8.8"
  }
 },
 "nbformat": 4,
 "nbformat_minor": 2
}
